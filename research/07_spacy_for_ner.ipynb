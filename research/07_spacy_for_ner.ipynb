{
 "cells": [
  {
   "cell_type": "code",
   "execution_count": 2,
   "metadata": {},
   "outputs": [
    {
     "name": "stderr",
     "output_type": "stream",
     "text": [
      "/home/ubuntu/NewDataCategories/venv/lib/python3.10/site-packages/tqdm/auto.py:21: TqdmWarning: IProgress not found. Please update jupyter and ipywidgets. See https://ipywidgets.readthedocs.io/en/stable/user_install.html\n",
      "  from .autonotebook import tqdm as notebook_tqdm\n"
     ]
    }
   ],
   "source": [
    "import spacy \n",
    "\n",
    "nlp = spacy.load('en_core_web_sm') \n",
    "\n",
    "\n"
   ]
  },
  {
   "cell_type": "code",
   "execution_count": 4,
   "metadata": {},
   "outputs": [
    {
     "name": "stdout",
     "output_type": "stream",
     "text": [
      "SONY 46 50 ORG\n",
      "Mic 85 88 ORG\n",
      "5.2 173 176 CARDINAL\n",
      "Mic 691 694 ORG\n",
      "SONY 829 833 ORG\n",
      "Mic 868 871 ORG\n",
      "SONY 1171 1175 ORG\n",
      "Mic 1210 1213 ORG\n",
      "SONY 1308 1312 ORG\n",
      "Mic 1347 1350 ORG\n"
     ]
    }
   ],
   "source": [
    "sentence = \"Apple is looking at buying U.K. startup for $1 billion\"\n",
    "sentence = \"\"\"\n",
    "         \n",
    "Enjoy immersive sound effects with SONY WH-1000XM5 Bluetooth Headset with Mic. Packed with a host of features, this pair of headphones is designed with Bluetooth 5.2 support for unparalleled performance and significant stability. Thanks to its wireless feature, now you do not need to untangle your headphones every time you want to listen to songs. Furthermore, it comes with Auto Noise Canceling Optimizer which monitors the noise canceling performance by pursuing the wearing conditions of the headphones. The exclusively designed carrying case makes this gadget travel-friendly. Thinking about its outstanding features, the price of the SONY WH-1000XM5 Bluetooth Headset with Mic seems quite fair.\n",
    "\n",
    " \n",
    "\n",
    "Good music and smiling are contagious, these can effectively elevate your mood. Say goodbye to stress with this SONY WH-1000XM5 Bluetooth Headset with Mic. Its exceptional clarity and intense sound effects make these headphones an absolute favorite of all music lovers. You can simply connect this pair of headphones to your phone, computer, tablet, or mp3 player. The packaging includes operating instructions for additional convenience. In a word, the SONY WH-1000XM5 Bluetooth Headset with Mic is a blend of sleek design and cutting-edge technology. So, what are you waiting for? Get the SONY WH-1000XM5 Bluetooth Headset with Mic online, now!\n",
    "      \"\"\"\n",
    "\n",
    "doc = nlp(sentence) \n",
    "\n",
    "for ent in doc.ents: \n",
    "\tprint(ent.text, ent.start_char, ent.end_char, ent.label_) "
   ]
  },
  {
   "cell_type": "code",
   "execution_count": null,
   "metadata": {},
   "outputs": [],
   "source": []
  }
 ],
 "metadata": {
  "kernelspec": {
   "display_name": "venv",
   "language": "python",
   "name": "python3"
  },
  "language_info": {
   "codemirror_mode": {
    "name": "ipython",
    "version": 3
   },
   "file_extension": ".py",
   "mimetype": "text/x-python",
   "name": "python",
   "nbconvert_exporter": "python",
   "pygments_lexer": "ipython3",
   "version": "3.10.12"
  }
 },
 "nbformat": 4,
 "nbformat_minor": 2
}
