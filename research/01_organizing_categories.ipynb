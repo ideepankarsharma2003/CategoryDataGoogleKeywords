{
 "cells": [
  {
   "cell_type": "code",
   "execution_count": 1,
   "metadata": {},
   "outputs": [],
   "source": [
    "import os; os.chdir('..')"
   ]
  },
  {
   "cell_type": "code",
   "execution_count": 2,
   "metadata": {},
   "outputs": [],
   "source": [
    "import pandas as pd"
   ]
  },
  {
   "cell_type": "code",
   "execution_count": 3,
   "metadata": {},
   "outputs": [
    {
     "data": {
      "text/html": [
       "<div>\n",
       "<style scoped>\n",
       "    .dataframe tbody tr th:only-of-type {\n",
       "        vertical-align: middle;\n",
       "    }\n",
       "\n",
       "    .dataframe tbody tr th {\n",
       "        vertical-align: top;\n",
       "    }\n",
       "\n",
       "    .dataframe thead th {\n",
       "        text-align: right;\n",
       "    }\n",
       "</style>\n",
       "<table border=\"1\" class=\"dataframe\">\n",
       "  <thead>\n",
       "    <tr style=\"text-align: right;\">\n",
       "      <th></th>\n",
       "      <th>Criterion ID</th>\n",
       "      <th>Category</th>\n",
       "    </tr>\n",
       "  </thead>\n",
       "  <tbody>\n",
       "    <tr>\n",
       "      <th>0</th>\n",
       "      <td>10021</td>\n",
       "      <td>/Apparel</td>\n",
       "    </tr>\n",
       "    <tr>\n",
       "      <th>1</th>\n",
       "      <td>10178</td>\n",
       "      <td>/Apparel/Apparel Accessories</td>\n",
       "    </tr>\n",
       "    <tr>\n",
       "      <th>2</th>\n",
       "      <td>10937</td>\n",
       "      <td>/Apparel/Apparel Accessories/Bags &amp; Packs</td>\n",
       "    </tr>\n",
       "    <tr>\n",
       "      <th>3</th>\n",
       "      <td>12262</td>\n",
       "      <td>/Apparel/Apparel Accessories/Bags &amp; Packs/Back...</td>\n",
       "    </tr>\n",
       "    <tr>\n",
       "      <th>4</th>\n",
       "      <td>12264</td>\n",
       "      <td>/Apparel/Apparel Accessories/Bags &amp; Packs/Brie...</td>\n",
       "    </tr>\n",
       "  </tbody>\n",
       "</table>\n",
       "</div>"
      ],
      "text/plain": [
       "   Criterion ID                                           Category\n",
       "0         10021                                           /Apparel\n",
       "1         10178                       /Apparel/Apparel Accessories\n",
       "2         10937          /Apparel/Apparel Accessories/Bags & Packs\n",
       "3         12262  /Apparel/Apparel Accessories/Bags & Packs/Back...\n",
       "4         12264  /Apparel/Apparel Accessories/Bags & Packs/Brie..."
      ]
     },
     "execution_count": 3,
     "metadata": {},
     "output_type": "execute_result"
    }
   ],
   "source": [
    "df= pd.read_csv(\n",
    "    'seo_data_categories/product_categories.csv'\n",
    ")\n",
    "\n",
    "df.head()"
   ]
  },
  {
   "cell_type": "code",
   "execution_count": 4,
   "metadata": {},
   "outputs": [],
   "source": [
    "def change_name(name):\n",
    "    name= name[1:]\n",
    "    # name= name.replace(\" / \", '-')\n",
    "    name= name.replace(\"/\", '-')\n",
    "    name= name.replace(\",\", '_')\n",
    "    name= name.replace(\"&\", '_')\n",
    "    name= name.replace(\" \", '_')\n",
    "    name= name.replace(\"'\", '')\n",
    "    return name\n",
    "    "
   ]
  },
  {
   "cell_type": "code",
   "execution_count": 5,
   "metadata": {},
   "outputs": [
    {
     "data": {
      "text/html": [
       "<div>\n",
       "<style scoped>\n",
       "    .dataframe tbody tr th:only-of-type {\n",
       "        vertical-align: middle;\n",
       "    }\n",
       "\n",
       "    .dataframe tbody tr th {\n",
       "        vertical-align: top;\n",
       "    }\n",
       "\n",
       "    .dataframe thead th {\n",
       "        text-align: right;\n",
       "    }\n",
       "</style>\n",
       "<table border=\"1\" class=\"dataframe\">\n",
       "  <thead>\n",
       "    <tr style=\"text-align: right;\">\n",
       "      <th></th>\n",
       "      <th>Criterion ID</th>\n",
       "      <th>Category</th>\n",
       "    </tr>\n",
       "  </thead>\n",
       "  <tbody>\n",
       "    <tr>\n",
       "      <th>0</th>\n",
       "      <td>10021</td>\n",
       "      <td>Apparel</td>\n",
       "    </tr>\n",
       "    <tr>\n",
       "      <th>1</th>\n",
       "      <td>10178</td>\n",
       "      <td>Apparel-Apparel_Accessories</td>\n",
       "    </tr>\n",
       "    <tr>\n",
       "      <th>2</th>\n",
       "      <td>10937</td>\n",
       "      <td>Apparel-Apparel_Accessories-Bags___Packs</td>\n",
       "    </tr>\n",
       "    <tr>\n",
       "      <th>3</th>\n",
       "      <td>12262</td>\n",
       "      <td>Apparel-Apparel_Accessories-Bags___Packs-Backp...</td>\n",
       "    </tr>\n",
       "    <tr>\n",
       "      <th>4</th>\n",
       "      <td>12264</td>\n",
       "      <td>Apparel-Apparel_Accessories-Bags___Packs-Brief...</td>\n",
       "    </tr>\n",
       "  </tbody>\n",
       "</table>\n",
       "</div>"
      ],
      "text/plain": [
       "   Criterion ID                                           Category\n",
       "0         10021                                            Apparel\n",
       "1         10178                        Apparel-Apparel_Accessories\n",
       "2         10937           Apparel-Apparel_Accessories-Bags___Packs\n",
       "3         12262  Apparel-Apparel_Accessories-Bags___Packs-Backp...\n",
       "4         12264  Apparel-Apparel_Accessories-Bags___Packs-Brief..."
      ]
     },
     "execution_count": 5,
     "metadata": {},
     "output_type": "execute_result"
    }
   ],
   "source": [
    "df.Category= df.Category.map(change_name)\n",
    "df.head()"
   ]
  },
  {
   "cell_type": "code",
   "execution_count": 6,
   "metadata": {},
   "outputs": [
    {
     "data": {
      "text/plain": [
       "6360"
      ]
     },
     "execution_count": 6,
     "metadata": {},
     "output_type": "execute_result"
    }
   ],
   "source": [
    "df.size"
   ]
  },
  {
   "cell_type": "code",
   "execution_count": 7,
   "metadata": {},
   "outputs": [],
   "source": [
    "# df.isna().value_counts()"
   ]
  },
  {
   "cell_type": "code",
   "execution_count": 8,
   "metadata": {},
   "outputs": [],
   "source": [
    "# df.iloc[0].values[0]"
   ]
  },
  {
   "cell_type": "code",
   "execution_count": 9,
   "metadata": {},
   "outputs": [],
   "source": [
    "# for category in df.Category:\n",
    "#     # print(category)\n",
    "#     os.mkdir(f\"product_categories/{category}.csv\")"
   ]
  },
  {
   "cell_type": "code",
   "execution_count": 10,
   "metadata": {},
   "outputs": [
    {
     "data": {
      "text/plain": [
       "Category\n",
       "False    3180\n",
       "Name: count, dtype: int64"
      ]
     },
     "execution_count": 10,
     "metadata": {},
     "output_type": "execute_result"
    }
   ],
   "source": [
    "df.Category.isna().value_counts()"
   ]
  },
  {
   "cell_type": "code",
   "execution_count": 11,
   "metadata": {},
   "outputs": [
    {
     "data": {
      "text/plain": [
       "3180"
      ]
     },
     "execution_count": 11,
     "metadata": {},
     "output_type": "execute_result"
    }
   ],
   "source": [
    "df.__len__()"
   ]
  },
  {
   "cell_type": "code",
   "execution_count": 12,
   "metadata": {},
   "outputs": [],
   "source": [
    "def write_files(filename: str, keywords: list):\n",
    "    with open(f\"product_categories/{filename}.csv\", \"w\") as f:\n",
    "        f.write(\"keywords\\n\")\n",
    "        for i in keywords[:-1]:\n",
    "            f.write(\n",
    "                i.replace(',', ' ')+'\\n'\n",
    "            )\n",
    "        f.write(\n",
    "                keywords[-1]\n",
    "            )"
   ]
  },
  {
   "cell_type": "code",
   "execution_count": 13,
   "metadata": {},
   "outputs": [],
   "source": [
    "# write_files(\n",
    "#     'abs',\n",
    "#     [\n",
    "#         \"hfjfhej\", \n",
    "#         \"hfhfi\",\n",
    "#         \"hdfuhvue\"\n",
    "#     ]\n",
    "# )"
   ]
  },
  {
   "cell_type": "code",
   "execution_count": 14,
   "metadata": {},
   "outputs": [],
   "source": [
    "from utils.client import  generate_keyword_from_categories"
   ]
  },
  {
   "cell_type": "code",
   "execution_count": 15,
   "metadata": {},
   "outputs": [
    {
     "data": {
      "text/plain": [
       "int"
      ]
     },
     "execution_count": 15,
     "metadata": {},
     "output_type": "execute_result"
    }
   ],
   "source": [
    "category_id= df.iloc[0].values[0]\n",
    "type(int(category_id))"
   ]
  },
  {
   "cell_type": "code",
   "execution_count": 16,
   "metadata": {},
   "outputs": [
    {
     "name": "stdout",
     "output_type": "stream",
     "text": [
      "i= 375:  "
     ]
    },
    {
     "name": "stdout",
     "output_type": "stream",
     "text": [
      "13159:-> Business___Industrial-Agriculture-Agricultural_Equipment-Farm_Tractors-Front_End_Loaders:-> 1000\n",
      "i= 376:  13160:-> Business___Industrial-Agriculture-Agricultural_Equipment-Farm_Tractors-Walking_Tractors:-> 1000\n",
      "i= 377:  12439:-> Business___Industrial-Agriculture-Agricultural_Equipment-Feed_Grinders:-> 1000\n",
      "i= 378:  12441:-> Business___Industrial-Agriculture-Agricultural_Equipment-Grain_Augers___Conveyors:-> 1000\n",
      "i= 379:  12434:-> Business___Industrial-Agriculture-Agricultural_Equipment-Manure___Seed_Spreaders:-> 1000\n",
      "i= 380:  12436:-> Business___Industrial-Agriculture-Agricultural_Equipment-Rock_Pickers:-> 1000\n",
      "i= 381:  11074:-> Business___Industrial-Agriculture-Agricultural_Research:-> 1000\n",
      "i= 382:  11076:-> Business___Industrial-Agriculture-Agricultural_Testing___Analysis:-> 1000\n",
      "i= 383:  12357:-> Business___Industrial-Agriculture-Agricultural_Testing___Analysis-Crop_Consulting:-> 1000\n",
      "i= 384:  12356:-> Business___Industrial-Agriculture-Agricultural_Testing___Analysis-Soil_Testing___Analysis:-> 1000\n",
      "i= 385:  12552:-> Business___Industrial-Agriculture-Agrochemicals:-> 1000\n",
      "i= 386:  11073:-> Business___Industrial-Agriculture-Aquaculture___Fishery_Services:-> 1000\n",
      "i= 387:  11188:-> Business___Industrial-Agriculture-Crops:-> 1000\n",
      "i= 388:  12428:-> Business___Industrial-Agriculture-Crops-Cereal___Grain:-> 1000\n",
      "i= 389:  12427:-> Business___Industrial-Agriculture-Crops-Seed:-> 1000\n",
      "i= 390:  11083:-> Business___Industrial-Agriculture-Forestry:-> 1000\n",
      "i= 391:  12423:-> Business___Industrial-Agriculture-Forestry-Firewood___Firewood_Equipment:-> 1000\n",
      "i= 392:  13156:-> Business___Industrial-Agriculture-Forestry-Firewood___Firewood_Equipment-Firewood_Processors:-> 1000\n",
      "i= 393:  13157:-> Business___Industrial-Agriculture-Forestry-Firewood___Firewood_Equipment-Log_Splitters:-> 1000\n",
      "i= 394:  "
     ]
    },
    {
     "ename": "KeyboardInterrupt",
     "evalue": "",
     "output_type": "error",
     "traceback": [
      "\u001b[0;31m---------------------------------------------------------------------------\u001b[0m",
      "\u001b[0;31mKeyboardInterrupt\u001b[0m                         Traceback (most recent call last)",
      "\u001b[1;32m/home/ubuntu/NewDataCategories/research/01_organizing_categories.ipynb Cell 16\u001b[0m line \u001b[0;36m6\n\u001b[1;32m      <a href='vscode-notebook-cell://ssh-remote%2B7b22686f73744e616d65223a22456d62656464696e6773227d/home/ubuntu/NewDataCategories/research/01_organizing_categories.ipynb#X21sdnNjb2RlLXJlbW90ZQ%3D%3D?line=3'>4</a>\u001b[0m category_id\u001b[39m=\u001b[39m df\u001b[39m.\u001b[39miloc[i]\u001b[39m.\u001b[39mvalues[\u001b[39m0\u001b[39m]\n\u001b[1;32m      <a href='vscode-notebook-cell://ssh-remote%2B7b22686f73744e616d65223a22456d62656464696e6773227d/home/ubuntu/NewDataCategories/research/01_organizing_categories.ipynb#X21sdnNjb2RlLXJlbW90ZQ%3D%3D?line=4'>5</a>\u001b[0m category\u001b[39m=\u001b[39m df\u001b[39m.\u001b[39miloc[i]\u001b[39m.\u001b[39mvalues[\u001b[39m1\u001b[39m]\n\u001b[0;32m----> <a href='vscode-notebook-cell://ssh-remote%2B7b22686f73744e616d65223a22456d62656464696e6773227d/home/ubuntu/NewDataCategories/research/01_organizing_categories.ipynb#X21sdnNjb2RlLXJlbW90ZQ%3D%3D?line=5'>6</a>\u001b[0m keywords\u001b[39m=\u001b[39m generate_keyword_from_categories(\u001b[39mint\u001b[39;49m(category_id))\n\u001b[1;32m      <a href='vscode-notebook-cell://ssh-remote%2B7b22686f73744e616d65223a22456d62656464696e6773227d/home/ubuntu/NewDataCategories/research/01_organizing_categories.ipynb#X21sdnNjb2RlLXJlbW90ZQ%3D%3D?line=6'>7</a>\u001b[0m \u001b[39mprint\u001b[39m(\u001b[39mf\u001b[39m\u001b[39m'\u001b[39m\u001b[39m{\u001b[39;00mcategory_id\u001b[39m}\u001b[39;00m\u001b[39m:-> \u001b[39m\u001b[39m{\u001b[39;00mcategory\u001b[39m}\u001b[39;00m\u001b[39m:-> \u001b[39m\u001b[39m{\u001b[39;00m\u001b[39mlen\u001b[39m(keywords)\u001b[39m}\u001b[39;00m\u001b[39m'\u001b[39m)\n\u001b[1;32m      <a href='vscode-notebook-cell://ssh-remote%2B7b22686f73744e616d65223a22456d62656464696e6773227d/home/ubuntu/NewDataCategories/research/01_organizing_categories.ipynb#X21sdnNjb2RlLXJlbW90ZQ%3D%3D?line=7'>8</a>\u001b[0m write_files(\n\u001b[1;32m      <a href='vscode-notebook-cell://ssh-remote%2B7b22686f73744e616d65223a22456d62656464696e6773227d/home/ubuntu/NewDataCategories/research/01_organizing_categories.ipynb#X21sdnNjb2RlLXJlbW90ZQ%3D%3D?line=8'>9</a>\u001b[0m     category,\n\u001b[1;32m     <a href='vscode-notebook-cell://ssh-remote%2B7b22686f73744e616d65223a22456d62656464696e6773227d/home/ubuntu/NewDataCategories/research/01_organizing_categories.ipynb#X21sdnNjb2RlLXJlbW90ZQ%3D%3D?line=9'>10</a>\u001b[0m     keywords\n\u001b[1;32m     <a href='vscode-notebook-cell://ssh-remote%2B7b22686f73744e616d65223a22456d62656464696e6773227d/home/ubuntu/NewDataCategories/research/01_organizing_categories.ipynb#X21sdnNjb2RlLXJlbW90ZQ%3D%3D?line=10'>11</a>\u001b[0m )\n",
      "File \u001b[0;32m~/NewDataCategories/utils/client.py:235\u001b[0m, in \u001b[0;36mgenerate_keyword_from_categories\u001b[0;34m(category_id)\u001b[0m\n\u001b[1;32m    220\u001b[0m post_data[\u001b[39mlen\u001b[39m(post_data)] \u001b[39m=\u001b[39m \u001b[39mdict\u001b[39m(\n\u001b[1;32m    221\u001b[0m     category_codes\u001b[39m=\u001b[39m[\n\u001b[1;32m    222\u001b[0m         \u001b[39m# 12191,\u001b[39;00m\n\u001b[0;32m   (...)\u001b[0m\n\u001b[1;32m    232\u001b[0m     limit\u001b[39m=\u001b[39m\u001b[39m1000\u001b[39m\n\u001b[1;32m    233\u001b[0m )\n\u001b[1;32m    234\u001b[0m \u001b[39m# POST /v3/dataforseo_labs/google/keywords_for_categories/live\u001b[39;00m\n\u001b[0;32m--> 235\u001b[0m response \u001b[39m=\u001b[39m client\u001b[39m.\u001b[39;49mpost(\u001b[39m\"\u001b[39;49m\u001b[39m/v3/dataforseo_labs/google/keywords_for_categories/live\u001b[39;49m\u001b[39m\"\u001b[39;49m, post_data)\n\u001b[1;32m    236\u001b[0m \u001b[39m# you can find the full list of the response codes here https://docs.dataforseo.com/v3/appendix/errors\u001b[39;00m\n\u001b[1;32m    237\u001b[0m \u001b[39mif\u001b[39;00m response[\u001b[39m\"\u001b[39m\u001b[39mstatus_code\u001b[39m\u001b[39m\"\u001b[39m] \u001b[39m==\u001b[39m \u001b[39m20000\u001b[39m:\n\u001b[1;32m    238\u001b[0m     \u001b[39m# print(response)\u001b[39;00m\n\u001b[1;32m    239\u001b[0m     \u001b[39m# do something with result\u001b[39;00m\n",
      "File \u001b[0;32m~/NewDataCategories/utils/client.py:35\u001b[0m, in \u001b[0;36mRestClient.post\u001b[0;34m(self, path, data)\u001b[0m\n\u001b[1;32m     33\u001b[0m \u001b[39melse\u001b[39;00m:\n\u001b[1;32m     34\u001b[0m     data_str \u001b[39m=\u001b[39m dumps(data)\n\u001b[0;32m---> 35\u001b[0m \u001b[39mreturn\u001b[39;00m \u001b[39mself\u001b[39;49m\u001b[39m.\u001b[39;49mrequest(path, \u001b[39m'\u001b[39;49m\u001b[39mPOST\u001b[39;49m\u001b[39m'\u001b[39;49m, data_str)\n",
      "File \u001b[0;32m~/NewDataCategories/utils/client.py:23\u001b[0m, in \u001b[0;36mRestClient.request\u001b[0;34m(self, path, method, data)\u001b[0m\n\u001b[1;32m     21\u001b[0m     connection\u001b[39m.\u001b[39mrequest(method, path, headers\u001b[39m=\u001b[39mheaders, body\u001b[39m=\u001b[39mdata)\n\u001b[1;32m     22\u001b[0m     response \u001b[39m=\u001b[39m connection\u001b[39m.\u001b[39mgetresponse()\n\u001b[0;32m---> 23\u001b[0m     \u001b[39mreturn\u001b[39;00m loads(response\u001b[39m.\u001b[39;49mread()\u001b[39m.\u001b[39mdecode())\n\u001b[1;32m     24\u001b[0m \u001b[39mfinally\u001b[39;00m:\n\u001b[1;32m     25\u001b[0m     connection\u001b[39m.\u001b[39mclose()\n",
      "File \u001b[0;32m/usr/lib/python3.10/http/client.py:482\u001b[0m, in \u001b[0;36mHTTPResponse.read\u001b[0;34m(self, amt)\u001b[0m\n\u001b[1;32m    480\u001b[0m \u001b[39melse\u001b[39;00m:\n\u001b[1;32m    481\u001b[0m     \u001b[39mtry\u001b[39;00m:\n\u001b[0;32m--> 482\u001b[0m         s \u001b[39m=\u001b[39m \u001b[39mself\u001b[39;49m\u001b[39m.\u001b[39;49m_safe_read(\u001b[39mself\u001b[39;49m\u001b[39m.\u001b[39;49mlength)\n\u001b[1;32m    483\u001b[0m     \u001b[39mexcept\u001b[39;00m IncompleteRead:\n\u001b[1;32m    484\u001b[0m         \u001b[39mself\u001b[39m\u001b[39m.\u001b[39m_close_conn()\n",
      "File \u001b[0;32m/usr/lib/python3.10/http/client.py:631\u001b[0m, in \u001b[0;36mHTTPResponse._safe_read\u001b[0;34m(self, amt)\u001b[0m\n\u001b[1;32m    624\u001b[0m \u001b[39mdef\u001b[39;00m \u001b[39m_safe_read\u001b[39m(\u001b[39mself\u001b[39m, amt):\n\u001b[1;32m    625\u001b[0m \u001b[39m    \u001b[39m\u001b[39m\"\"\"Read the number of bytes requested.\u001b[39;00m\n\u001b[1;32m    626\u001b[0m \n\u001b[1;32m    627\u001b[0m \u001b[39m    This function should be used when <amt> bytes \"should\" be present for\u001b[39;00m\n\u001b[1;32m    628\u001b[0m \u001b[39m    reading. If the bytes are truly not available (due to EOF), then the\u001b[39;00m\n\u001b[1;32m    629\u001b[0m \u001b[39m    IncompleteRead exception can be used to detect the problem.\u001b[39;00m\n\u001b[1;32m    630\u001b[0m \u001b[39m    \"\"\"\u001b[39;00m\n\u001b[0;32m--> 631\u001b[0m     data \u001b[39m=\u001b[39m \u001b[39mself\u001b[39;49m\u001b[39m.\u001b[39;49mfp\u001b[39m.\u001b[39;49mread(amt)\n\u001b[1;32m    632\u001b[0m     \u001b[39mif\u001b[39;00m \u001b[39mlen\u001b[39m(data) \u001b[39m<\u001b[39m amt:\n\u001b[1;32m    633\u001b[0m         \u001b[39mraise\u001b[39;00m IncompleteRead(data, amt\u001b[39m-\u001b[39m\u001b[39mlen\u001b[39m(data))\n",
      "File \u001b[0;32m/usr/lib/python3.10/socket.py:705\u001b[0m, in \u001b[0;36mSocketIO.readinto\u001b[0;34m(self, b)\u001b[0m\n\u001b[1;32m    703\u001b[0m \u001b[39mwhile\u001b[39;00m \u001b[39mTrue\u001b[39;00m:\n\u001b[1;32m    704\u001b[0m     \u001b[39mtry\u001b[39;00m:\n\u001b[0;32m--> 705\u001b[0m         \u001b[39mreturn\u001b[39;00m \u001b[39mself\u001b[39;49m\u001b[39m.\u001b[39;49m_sock\u001b[39m.\u001b[39;49mrecv_into(b)\n\u001b[1;32m    706\u001b[0m     \u001b[39mexcept\u001b[39;00m timeout:\n\u001b[1;32m    707\u001b[0m         \u001b[39mself\u001b[39m\u001b[39m.\u001b[39m_timeout_occurred \u001b[39m=\u001b[39m \u001b[39mTrue\u001b[39;00m\n",
      "File \u001b[0;32m/usr/lib/python3.10/ssl.py:1274\u001b[0m, in \u001b[0;36mSSLSocket.recv_into\u001b[0;34m(self, buffer, nbytes, flags)\u001b[0m\n\u001b[1;32m   1270\u001b[0m     \u001b[39mif\u001b[39;00m flags \u001b[39m!=\u001b[39m \u001b[39m0\u001b[39m:\n\u001b[1;32m   1271\u001b[0m         \u001b[39mraise\u001b[39;00m \u001b[39mValueError\u001b[39;00m(\n\u001b[1;32m   1272\u001b[0m           \u001b[39m\"\u001b[39m\u001b[39mnon-zero flags not allowed in calls to recv_into() on \u001b[39m\u001b[39m%s\u001b[39;00m\u001b[39m\"\u001b[39m \u001b[39m%\u001b[39m\n\u001b[1;32m   1273\u001b[0m           \u001b[39mself\u001b[39m\u001b[39m.\u001b[39m\u001b[39m__class__\u001b[39m)\n\u001b[0;32m-> 1274\u001b[0m     \u001b[39mreturn\u001b[39;00m \u001b[39mself\u001b[39;49m\u001b[39m.\u001b[39;49mread(nbytes, buffer)\n\u001b[1;32m   1275\u001b[0m \u001b[39melse\u001b[39;00m:\n\u001b[1;32m   1276\u001b[0m     \u001b[39mreturn\u001b[39;00m \u001b[39msuper\u001b[39m()\u001b[39m.\u001b[39mrecv_into(buffer, nbytes, flags)\n",
      "File \u001b[0;32m/usr/lib/python3.10/ssl.py:1130\u001b[0m, in \u001b[0;36mSSLSocket.read\u001b[0;34m(self, len, buffer)\u001b[0m\n\u001b[1;32m   1128\u001b[0m \u001b[39mtry\u001b[39;00m:\n\u001b[1;32m   1129\u001b[0m     \u001b[39mif\u001b[39;00m buffer \u001b[39mis\u001b[39;00m \u001b[39mnot\u001b[39;00m \u001b[39mNone\u001b[39;00m:\n\u001b[0;32m-> 1130\u001b[0m         \u001b[39mreturn\u001b[39;00m \u001b[39mself\u001b[39;49m\u001b[39m.\u001b[39;49m_sslobj\u001b[39m.\u001b[39;49mread(\u001b[39mlen\u001b[39;49m, buffer)\n\u001b[1;32m   1131\u001b[0m     \u001b[39melse\u001b[39;00m:\n\u001b[1;32m   1132\u001b[0m         \u001b[39mreturn\u001b[39;00m \u001b[39mself\u001b[39m\u001b[39m.\u001b[39m_sslobj\u001b[39m.\u001b[39mread(\u001b[39mlen\u001b[39m)\n",
      "\u001b[0;31mKeyboardInterrupt\u001b[0m: "
     ]
    }
   ],
   "source": [
    "for i in range(394, df.__len__()):\n",
    "    print(f'i= {i}: ', end=' ')\n",
    "    \n",
    "    category_id= df.iloc[i].values[0]\n",
    "    category= df.iloc[i].values[1]\n",
    "    keywords= generate_keyword_from_categories(int(category_id))\n",
    "    print(f'{category_id}:-> {category}:-> {len(keywords)}')\n",
    "    write_files(\n",
    "        category,\n",
    "        keywords\n",
    "    )\n",
    "    \n",
    "    # print(\n",
    "    #     df.iloc[i].values[0], ': ', \n",
    "    #     df.iloc[i].values[1], ': ', \n",
    "                \n",
    "    #         )"
   ]
  },
  {
   "cell_type": "code",
   "execution_count": 17,
   "metadata": {},
   "outputs": [
    {
     "data": {
      "text/plain": [
       "374"
      ]
     },
     "execution_count": 17,
     "metadata": {},
     "output_type": "execute_result"
    }
   ],
   "source": [
    "df.Category.values.tolist().index('Business___Industrial-Agriculture-Agricultural_Equipment-Farm_Tractors')"
   ]
  },
  {
   "cell_type": "code",
   "execution_count": null,
   "metadata": {},
   "outputs": [],
   "source": []
  }
 ],
 "metadata": {
  "kernelspec": {
   "display_name": "venv",
   "language": "python",
   "name": "python3"
  },
  "language_info": {
   "codemirror_mode": {
    "name": "ipython",
    "version": 3
   },
   "file_extension": ".py",
   "mimetype": "text/x-python",
   "name": "python",
   "nbconvert_exporter": "python",
   "pygments_lexer": "ipython3",
   "version": "3.10.12"
  }
 },
 "nbformat": 4,
 "nbformat_minor": 2
}
