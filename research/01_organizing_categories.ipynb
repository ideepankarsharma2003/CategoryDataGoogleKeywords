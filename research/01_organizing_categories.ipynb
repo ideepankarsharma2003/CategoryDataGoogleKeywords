{
 "cells": [
  {
   "cell_type": "code",
   "execution_count": 1,
   "metadata": {},
   "outputs": [],
   "source": [
    "import os; os.chdir('..')"
   ]
  },
  {
   "cell_type": "code",
   "execution_count": 2,
   "metadata": {},
   "outputs": [],
   "source": [
    "import pandas as pd"
   ]
  },
  {
   "cell_type": "code",
   "execution_count": 3,
   "metadata": {},
   "outputs": [
    {
     "data": {
      "text/html": [
       "<div>\n",
       "<style scoped>\n",
       "    .dataframe tbody tr th:only-of-type {\n",
       "        vertical-align: middle;\n",
       "    }\n",
       "\n",
       "    .dataframe tbody tr th {\n",
       "        vertical-align: top;\n",
       "    }\n",
       "\n",
       "    .dataframe thead th {\n",
       "        text-align: right;\n",
       "    }\n",
       "</style>\n",
       "<table border=\"1\" class=\"dataframe\">\n",
       "  <thead>\n",
       "    <tr style=\"text-align: right;\">\n",
       "      <th></th>\n",
       "      <th>Criterion ID</th>\n",
       "      <th>Category</th>\n",
       "    </tr>\n",
       "  </thead>\n",
       "  <tbody>\n",
       "    <tr>\n",
       "      <th>0</th>\n",
       "      <td>10021</td>\n",
       "      <td>/Apparel</td>\n",
       "    </tr>\n",
       "    <tr>\n",
       "      <th>1</th>\n",
       "      <td>10178</td>\n",
       "      <td>/Apparel/Apparel Accessories</td>\n",
       "    </tr>\n",
       "    <tr>\n",
       "      <th>2</th>\n",
       "      <td>10937</td>\n",
       "      <td>/Apparel/Apparel Accessories/Bags &amp; Packs</td>\n",
       "    </tr>\n",
       "    <tr>\n",
       "      <th>3</th>\n",
       "      <td>12262</td>\n",
       "      <td>/Apparel/Apparel Accessories/Bags &amp; Packs/Back...</td>\n",
       "    </tr>\n",
       "    <tr>\n",
       "      <th>4</th>\n",
       "      <td>12264</td>\n",
       "      <td>/Apparel/Apparel Accessories/Bags &amp; Packs/Brie...</td>\n",
       "    </tr>\n",
       "  </tbody>\n",
       "</table>\n",
       "</div>"
      ],
      "text/plain": [
       "   Criterion ID                                           Category\n",
       "0         10021                                           /Apparel\n",
       "1         10178                       /Apparel/Apparel Accessories\n",
       "2         10937          /Apparel/Apparel Accessories/Bags & Packs\n",
       "3         12262  /Apparel/Apparel Accessories/Bags & Packs/Back...\n",
       "4         12264  /Apparel/Apparel Accessories/Bags & Packs/Brie..."
      ]
     },
     "execution_count": 3,
     "metadata": {},
     "output_type": "execute_result"
    }
   ],
   "source": [
    "df= pd.read_csv(\n",
    "    'seo_data_categories/product_categories.csv'\n",
    ")\n",
    "\n",
    "df.head()"
   ]
  },
  {
   "cell_type": "code",
   "execution_count": 4,
   "metadata": {},
   "outputs": [],
   "source": [
    "def change_name(name):\n",
    "    name= name[1:]\n",
    "    # name= name.replace(\" / \", '-')\n",
    "    name= name.replace(\"/\", '-')\n",
    "    name= name.replace(\",\", '_')\n",
    "    name= name.replace(\"&\", '_')\n",
    "    name= name.replace(\" \", '_')\n",
    "    name= name.replace(\"'\", '')\n",
    "    return name\n",
    "    "
   ]
  },
  {
   "cell_type": "code",
   "execution_count": 5,
   "metadata": {},
   "outputs": [
    {
     "data": {
      "text/html": [
       "<div>\n",
       "<style scoped>\n",
       "    .dataframe tbody tr th:only-of-type {\n",
       "        vertical-align: middle;\n",
       "    }\n",
       "\n",
       "    .dataframe tbody tr th {\n",
       "        vertical-align: top;\n",
       "    }\n",
       "\n",
       "    .dataframe thead th {\n",
       "        text-align: right;\n",
       "    }\n",
       "</style>\n",
       "<table border=\"1\" class=\"dataframe\">\n",
       "  <thead>\n",
       "    <tr style=\"text-align: right;\">\n",
       "      <th></th>\n",
       "      <th>Criterion ID</th>\n",
       "      <th>Category</th>\n",
       "    </tr>\n",
       "  </thead>\n",
       "  <tbody>\n",
       "    <tr>\n",
       "      <th>0</th>\n",
       "      <td>10021</td>\n",
       "      <td>Apparel</td>\n",
       "    </tr>\n",
       "    <tr>\n",
       "      <th>1</th>\n",
       "      <td>10178</td>\n",
       "      <td>Apparel-Apparel_Accessories</td>\n",
       "    </tr>\n",
       "    <tr>\n",
       "      <th>2</th>\n",
       "      <td>10937</td>\n",
       "      <td>Apparel-Apparel_Accessories-Bags___Packs</td>\n",
       "    </tr>\n",
       "    <tr>\n",
       "      <th>3</th>\n",
       "      <td>12262</td>\n",
       "      <td>Apparel-Apparel_Accessories-Bags___Packs-Backp...</td>\n",
       "    </tr>\n",
       "    <tr>\n",
       "      <th>4</th>\n",
       "      <td>12264</td>\n",
       "      <td>Apparel-Apparel_Accessories-Bags___Packs-Brief...</td>\n",
       "    </tr>\n",
       "  </tbody>\n",
       "</table>\n",
       "</div>"
      ],
      "text/plain": [
       "   Criterion ID                                           Category\n",
       "0         10021                                            Apparel\n",
       "1         10178                        Apparel-Apparel_Accessories\n",
       "2         10937           Apparel-Apparel_Accessories-Bags___Packs\n",
       "3         12262  Apparel-Apparel_Accessories-Bags___Packs-Backp...\n",
       "4         12264  Apparel-Apparel_Accessories-Bags___Packs-Brief..."
      ]
     },
     "execution_count": 5,
     "metadata": {},
     "output_type": "execute_result"
    }
   ],
   "source": [
    "df.Category= df.Category.map(change_name)\n",
    "df.head()"
   ]
  },
  {
   "cell_type": "code",
   "execution_count": 6,
   "metadata": {},
   "outputs": [
    {
     "data": {
      "text/plain": [
       "6360"
      ]
     },
     "execution_count": 6,
     "metadata": {},
     "output_type": "execute_result"
    }
   ],
   "source": [
    "df.size"
   ]
  },
  {
   "cell_type": "code",
   "execution_count": 7,
   "metadata": {},
   "outputs": [],
   "source": [
    "# df.isna().value_counts()"
   ]
  },
  {
   "cell_type": "code",
   "execution_count": 8,
   "metadata": {},
   "outputs": [],
   "source": [
    "# df.iloc[0].values[0]"
   ]
  },
  {
   "cell_type": "code",
   "execution_count": 9,
   "metadata": {},
   "outputs": [],
   "source": [
    "# for category in df.Category:\n",
    "#     # print(category)\n",
    "#     os.mkdir(f\"product_categories/{category}.csv\")"
   ]
  },
  {
   "cell_type": "code",
   "execution_count": 10,
   "metadata": {},
   "outputs": [
    {
     "data": {
      "text/plain": [
       "Category\n",
       "False    3180\n",
       "Name: count, dtype: int64"
      ]
     },
     "execution_count": 10,
     "metadata": {},
     "output_type": "execute_result"
    }
   ],
   "source": [
    "df.Category.isna().value_counts()"
   ]
  },
  {
   "cell_type": "code",
   "execution_count": 11,
   "metadata": {},
   "outputs": [
    {
     "data": {
      "text/plain": [
       "3180"
      ]
     },
     "execution_count": 11,
     "metadata": {},
     "output_type": "execute_result"
    }
   ],
   "source": [
    "df.__len__()"
   ]
  },
  {
   "cell_type": "code",
   "execution_count": 12,
   "metadata": {},
   "outputs": [],
   "source": [
    "def write_files(filename: str, keywords: list):\n",
    "    with open(f\"product_categories/{filename}.csv\", \"w\") as f:\n",
    "        f.write(\"keywords\\n\")\n",
    "        for i in keywords[:-1]:\n",
    "            f.write(\n",
    "                i.replace(',', ' ')+'\\n'\n",
    "            )\n",
    "        f.write(\n",
    "                keywords[-1]\n",
    "            )"
   ]
  },
  {
   "cell_type": "code",
   "execution_count": 13,
   "metadata": {},
   "outputs": [],
   "source": [
    "# write_files(\n",
    "#     'abs',\n",
    "#     [\n",
    "#         \"hfjfhej\", \n",
    "#         \"hfhfi\",\n",
    "#         \"hdfuhvue\"\n",
    "#     ]\n",
    "# )"
   ]
  },
  {
   "cell_type": "code",
   "execution_count": 14,
   "metadata": {},
   "outputs": [],
   "source": [
    "from utils.client import  generate_keyword_from_categories"
   ]
  },
  {
   "cell_type": "code",
   "execution_count": 15,
   "metadata": {},
   "outputs": [
    {
     "data": {
      "text/plain": [
       "int"
      ]
     },
     "execution_count": 15,
     "metadata": {},
     "output_type": "execute_result"
    }
   ],
   "source": [
    "category_id= df.iloc[0].values[0]\n",
    "type(int(category_id))"
   ]
  },
  {
   "cell_type": "code",
   "execution_count": 16,
   "metadata": {},
   "outputs": [
    {
     "name": "stdout",
     "output_type": "stream",
     "text": [
      "i= 365:  "
     ]
    },
    {
     "name": "stdout",
     "output_type": "stream",
     "text": [
      "10313:-> Beauty___Personal_Care-Tanning___Sun_Care-Tanning_Beds:-> 1000\n",
      "i= 366:  10312:-> Beauty___Personal_Care-Tanning___Sun_Care-Tanning_Services:-> 1000\n",
      "i= 367:  10004:-> Business___Industrial:-> 1000\n",
      "i= 368:  13864:-> Business___Industrial-Aerospace___Defense:-> 1000\n",
      "i= 369:  13460:-> Business___Industrial-Agriculture:-> 1000\n",
      "i= 370:  11194:-> Business___Industrial-Agriculture-Agricultural_Equipment:-> 1000\n",
      "i= 371:  12444:-> Business___Industrial-Agriculture-Agricultural_Equipment-Balers:-> 1000\n",
      "i= 372:  12438:-> Business___Industrial-Agriculture-Agricultural_Equipment-Crop_Sprayers:-> 1000\n",
      "i= 373:  12440:-> Business___Industrial-Agriculture-Agricultural_Equipment-Cultivators:-> 1000\n",
      "i= 374:  12443:-> Business___Industrial-Agriculture-Agricultural_Equipment-Farm_Tractors:-> 1000\n",
      "i= 375:  "
     ]
    },
    {
     "ename": "TypeError",
     "evalue": "'NoneType' object is not subscriptable",
     "output_type": "error",
     "traceback": [
      "\u001b[0;31m---------------------------------------------------------------------------\u001b[0m",
      "\u001b[0;31mTypeError\u001b[0m                                 Traceback (most recent call last)",
      "\u001b[1;32m/home/ubuntu/NewDataCategories/research/01_organizing_categories.ipynb Cell 16\u001b[0m line \u001b[0;36m6\n\u001b[1;32m      <a href='vscode-notebook-cell://ssh-remote%2B7b22686f73744e616d65223a22456d62656464696e6773227d/home/ubuntu/NewDataCategories/research/01_organizing_categories.ipynb#X21sdnNjb2RlLXJlbW90ZQ%3D%3D?line=3'>4</a>\u001b[0m category_id\u001b[39m=\u001b[39m df\u001b[39m.\u001b[39miloc[i]\u001b[39m.\u001b[39mvalues[\u001b[39m0\u001b[39m]\n\u001b[1;32m      <a href='vscode-notebook-cell://ssh-remote%2B7b22686f73744e616d65223a22456d62656464696e6773227d/home/ubuntu/NewDataCategories/research/01_organizing_categories.ipynb#X21sdnNjb2RlLXJlbW90ZQ%3D%3D?line=4'>5</a>\u001b[0m category\u001b[39m=\u001b[39m df\u001b[39m.\u001b[39miloc[i]\u001b[39m.\u001b[39mvalues[\u001b[39m1\u001b[39m]\n\u001b[0;32m----> <a href='vscode-notebook-cell://ssh-remote%2B7b22686f73744e616d65223a22456d62656464696e6773227d/home/ubuntu/NewDataCategories/research/01_organizing_categories.ipynb#X21sdnNjb2RlLXJlbW90ZQ%3D%3D?line=5'>6</a>\u001b[0m keywords\u001b[39m=\u001b[39m generate_keyword_from_categories(\u001b[39mint\u001b[39;49m(category_id))\n\u001b[1;32m      <a href='vscode-notebook-cell://ssh-remote%2B7b22686f73744e616d65223a22456d62656464696e6773227d/home/ubuntu/NewDataCategories/research/01_organizing_categories.ipynb#X21sdnNjb2RlLXJlbW90ZQ%3D%3D?line=6'>7</a>\u001b[0m \u001b[39mprint\u001b[39m(\u001b[39mf\u001b[39m\u001b[39m'\u001b[39m\u001b[39m{\u001b[39;00mcategory_id\u001b[39m}\u001b[39;00m\u001b[39m:-> \u001b[39m\u001b[39m{\u001b[39;00mcategory\u001b[39m}\u001b[39;00m\u001b[39m:-> \u001b[39m\u001b[39m{\u001b[39;00m\u001b[39mlen\u001b[39m(keywords)\u001b[39m}\u001b[39;00m\u001b[39m'\u001b[39m)\n\u001b[1;32m      <a href='vscode-notebook-cell://ssh-remote%2B7b22686f73744e616d65223a22456d62656464696e6773227d/home/ubuntu/NewDataCategories/research/01_organizing_categories.ipynb#X21sdnNjb2RlLXJlbW90ZQ%3D%3D?line=7'>8</a>\u001b[0m write_files(\n\u001b[1;32m      <a href='vscode-notebook-cell://ssh-remote%2B7b22686f73744e616d65223a22456d62656464696e6773227d/home/ubuntu/NewDataCategories/research/01_organizing_categories.ipynb#X21sdnNjb2RlLXJlbW90ZQ%3D%3D?line=8'>9</a>\u001b[0m     category,\n\u001b[1;32m     <a href='vscode-notebook-cell://ssh-remote%2B7b22686f73744e616d65223a22456d62656464696e6773227d/home/ubuntu/NewDataCategories/research/01_organizing_categories.ipynb#X21sdnNjb2RlLXJlbW90ZQ%3D%3D?line=9'>10</a>\u001b[0m     keywords\n\u001b[1;32m     <a href='vscode-notebook-cell://ssh-remote%2B7b22686f73744e616d65223a22456d62656464696e6773227d/home/ubuntu/NewDataCategories/research/01_organizing_categories.ipynb#X21sdnNjb2RlLXJlbW90ZQ%3D%3D?line=10'>11</a>\u001b[0m )\n",
      "File \u001b[0;32m~/NewDataCategories/utils/client.py:242\u001b[0m, in \u001b[0;36mgenerate_keyword_from_categories\u001b[0;34m(category_id)\u001b[0m\n\u001b[1;32m    237\u001b[0m \u001b[39mif\u001b[39;00m response[\u001b[39m\"\u001b[39m\u001b[39mstatus_code\u001b[39m\u001b[39m\"\u001b[39m] \u001b[39m==\u001b[39m \u001b[39m20000\u001b[39m:\n\u001b[1;32m    238\u001b[0m     \u001b[39m# print(response)\u001b[39;00m\n\u001b[1;32m    239\u001b[0m     \u001b[39m# do something with result\u001b[39;00m\n\u001b[1;32m    240\u001b[0m     keywords\u001b[39m=\u001b[39m []\n\u001b[1;32m    241\u001b[0m     \u001b[39mfor\u001b[39;00m i \u001b[39min\u001b[39;00m (\n\u001b[0;32m--> 242\u001b[0m             response[\u001b[39m'\u001b[39;49m\u001b[39mtasks\u001b[39;49m\u001b[39m'\u001b[39;49m][\u001b[39m0\u001b[39;49m][\u001b[39m'\u001b[39;49m\u001b[39mresult\u001b[39;49m\u001b[39m'\u001b[39;49m][\u001b[39m0\u001b[39;49m][\u001b[39m'\u001b[39m\u001b[39mitems\u001b[39m\u001b[39m'\u001b[39m]\n\u001b[1;32m    243\u001b[0m                 \n\u001b[1;32m    244\u001b[0m             ):\n\u001b[1;32m    245\u001b[0m         keywords\u001b[39m.\u001b[39mappend(i[\u001b[39m'\u001b[39m\u001b[39mkeyword\u001b[39m\u001b[39m'\u001b[39m])\n\u001b[1;32m    246\u001b[0m     \u001b[39mreturn\u001b[39;00m keywords\n",
      "\u001b[0;31mTypeError\u001b[0m: 'NoneType' object is not subscriptable"
     ]
    }
   ],
   "source": [
    "for i in range(365, df.__len__()):\n",
    "    print(f'i= {i}: ', end=' ')\n",
    "    \n",
    "    category_id= df.iloc[i].values[0]\n",
    "    category= df.iloc[i].values[1]\n",
    "    keywords= generate_keyword_from_categories(int(category_id))\n",
    "    print(f'{category_id}:-> {category}:-> {len(keywords)}')\n",
    "    write_files(\n",
    "        category,\n",
    "        keywords\n",
    "    )\n",
    "    \n",
    "    # print(\n",
    "    #     df.iloc[i].values[0], ': ', \n",
    "    #     df.iloc[i].values[1], ': ', \n",
    "                \n",
    "    #         )"
   ]
  },
  {
   "cell_type": "code",
   "execution_count": null,
   "metadata": {},
   "outputs": [
    {
     "data": {
      "text/plain": [
       "365"
      ]
     },
     "execution_count": 31,
     "metadata": {},
     "output_type": "execute_result"
    }
   ],
   "source": [
    "df.Category.values.tolist().index('Beauty___Personal_Care-Tanning___Sun_Care-Tanning_Beds')"
   ]
  },
  {
   "cell_type": "code",
   "execution_count": null,
   "metadata": {},
   "outputs": [],
   "source": []
  }
 ],
 "metadata": {
  "kernelspec": {
   "display_name": "venv",
   "language": "python",
   "name": "python3"
  },
  "language_info": {
   "codemirror_mode": {
    "name": "ipython",
    "version": 3
   },
   "file_extension": ".py",
   "mimetype": "text/x-python",
   "name": "python",
   "nbconvert_exporter": "python",
   "pygments_lexer": "ipython3",
   "version": "3.10.12"
  }
 },
 "nbformat": 4,
 "nbformat_minor": 2
}
