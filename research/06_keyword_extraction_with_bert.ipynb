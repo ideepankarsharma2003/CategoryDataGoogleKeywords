{
 "cells": [
  {
   "cell_type": "code",
   "execution_count": null,
   "metadata": {},
   "outputs": [],
   "source": [
    "from sentence_transformers import SentenceTransformer\n",
    "\n",
    "model = SentenceTransformer('distilbert-base-nli-mean-tokens')"
   ]
  },
  {
   "cell_type": "code",
   "execution_count": 50,
   "metadata": {},
   "outputs": [],
   "source": [
    "doc = \"\"\"\n",
    "         \n",
    "Enjoy immersive sound effects with SONY WH-1000XM5 Bluetooth Headset with Mic. Packed with a host of features, this pair of headphones is designed with Bluetooth 5.2 support for unparalleled performance and significant stability. Thanks to its wireless feature, now you do not need to untangle your headphones every time you want to listen to songs. Furthermore, it comes with Auto Noise Canceling Optimizer which monitors the noise canceling performance by pursuing the wearing conditions of the headphones. The exclusively designed carrying case makes this gadget travel-friendly. Thinking about its outstanding features, the price of the SONY WH-1000XM5 Bluetooth Headset with Mic seems quite fair.\n",
    "\n",
    " \n",
    "\n",
    "Good music and smiling are contagious, these can effectively elevate your mood. Say goodbye to stress with this SONY WH-1000XM5 Bluetooth Headset with Mic. Its exceptional clarity and intense sound effects make these headphones an absolute favorite of all music lovers. You can simply connect this pair of headphones to your phone, computer, tablet, or mp3 player. The packaging includes operating instructions for additional convenience. In a word, the SONY WH-1000XM5 Bluetooth Headset with Mic is a blend of sleek design and cutting-edge technology. So, what are you waiting for? Get the SONY WH-1000XM5 Bluetooth Headset with Mic online, now!\n",
    "      \"\"\""
   ]
  },
  {
   "cell_type": "code",
   "execution_count": 51,
   "metadata": {},
   "outputs": [],
   "source": [
    "from sklearn.feature_extraction.text import CountVectorizer\n",
    "\n",
    "# n_gram_range = (1, 1)\n",
    "n_gram_range = (1, 3)\n",
    "stop_words = \"english\"\n",
    "\n",
    "# Extract candidate words/phrases\n",
    "count = CountVectorizer(ngram_range=n_gram_range, stop_words=stop_words).fit([doc])\n",
    "candidates = count.get_feature_names_out()"
   ]
  },
  {
   "cell_type": "code",
   "execution_count": 52,
   "metadata": {},
   "outputs": [
    {
     "data": {
      "text/plain": [
       "array(['1000xm5', '1000xm5 bluetooth', '1000xm5 bluetooth headset',\n",
       "       'absolute', 'absolute favorite', 'absolute favorite music',\n",
       "       'additional', 'additional convenience',\n",
       "       'additional convenience word', 'auto', 'auto noise',\n",
       "       'auto noise canceling', 'blend', 'blend sleek',\n",
       "       'blend sleek design', 'bluetooth', 'bluetooth headset',\n",
       "       'bluetooth headset mic', 'bluetooth support',\n",
       "       'bluetooth support unparalleled', 'canceling',\n",
       "       'canceling optimizer', 'canceling optimizer monitors',\n",
       "       'canceling performance', 'canceling performance pursuing',\n",
       "       'carrying', 'carrying case', 'carrying case makes', 'case',\n",
       "       'case makes', 'case makes gadget', 'clarity', 'clarity intense',\n",
       "       'clarity intense sound', 'comes', 'comes auto', 'comes auto noise',\n",
       "       'computer', 'computer tablet', 'computer tablet mp3', 'conditions',\n",
       "       'conditions headphones', 'conditions headphones exclusively',\n",
       "       'connect', 'connect pair', 'connect pair headphones', 'contagious',\n",
       "       'contagious effectively', 'contagious effectively elevate',\n",
       "       'convenience', 'convenience word', 'convenience word sony',\n",
       "       'cutting', 'cutting edge', 'cutting edge technology', 'design',\n",
       "       'design cutting', 'design cutting edge', 'designed',\n",
       "       'designed bluetooth', 'designed bluetooth support',\n",
       "       'designed carrying', 'designed carrying case', 'edge',\n",
       "       'edge technology', 'edge technology waiting', 'effectively',\n",
       "       'effectively elevate', 'effectively elevate mood', 'effects',\n",
       "       'effects make', 'effects make headphones', 'effects sony',\n",
       "       'effects sony wh', 'elevate', 'elevate mood', 'elevate mood say',\n",
       "       'enjoy', 'enjoy immersive', 'enjoy immersive sound', 'exceptional',\n",
       "       'exceptional clarity', 'exceptional clarity intense',\n",
       "       'exclusively', 'exclusively designed',\n",
       "       'exclusively designed carrying', 'fair', 'fair good',\n",
       "       'fair good music', 'favorite', 'favorite music',\n",
       "       'favorite music lovers', 'feature', 'feature need',\n",
       "       'feature need untangle', 'features', 'features pair',\n",
       "       'features pair headphones', 'features price',\n",
       "       'features price sony', 'friendly', 'friendly thinking',\n",
       "       'friendly thinking outstanding', 'furthermore',\n",
       "       'furthermore comes', 'furthermore comes auto', 'gadget',\n",
       "       'gadget travel', 'gadget travel friendly', 'good', 'good music',\n",
       "       'good music smiling', 'goodbye', 'goodbye stress',\n",
       "       'goodbye stress sony', 'headphones', 'headphones absolute',\n",
       "       'headphones absolute favorite', 'headphones designed',\n",
       "       'headphones designed bluetooth', 'headphones exclusively',\n",
       "       'headphones exclusively designed', 'headphones phone',\n",
       "       'headphones phone computer', 'headphones time',\n",
       "       'headphones time want', 'headset', 'headset mic',\n",
       "       'headset mic blend', 'headset mic exceptional',\n",
       "       'headset mic online', 'headset mic packed', 'headset mic quite',\n",
       "       'host', 'host features', 'host features pair', 'immersive',\n",
       "       'immersive sound', 'immersive sound effects', 'includes',\n",
       "       'includes operating', 'includes operating instructions',\n",
       "       'instructions', 'instructions additional',\n",
       "       'instructions additional convenience', 'intense', 'intense sound',\n",
       "       'intense sound effects', 'listen', 'listen songs',\n",
       "       'listen songs furthermore', 'lovers', 'lovers simply',\n",
       "       'lovers simply connect', 'make', 'make headphones',\n",
       "       'make headphones absolute', 'makes', 'makes gadget',\n",
       "       'makes gadget travel', 'mic', 'mic blend', 'mic blend sleek',\n",
       "       'mic exceptional', 'mic exceptional clarity', 'mic online',\n",
       "       'mic packed', 'mic packed host', 'mic quite', 'mic quite fair',\n",
       "       'monitors', 'monitors noise', 'monitors noise canceling', 'mood',\n",
       "       'mood say', 'mood say goodbye', 'mp3', 'mp3 player',\n",
       "       'mp3 player packaging', 'music', 'music lovers',\n",
       "       'music lovers simply', 'music smiling', 'music smiling contagious',\n",
       "       'need', 'need untangle', 'need untangle headphones', 'noise',\n",
       "       'noise canceling', 'noise canceling optimizer',\n",
       "       'noise canceling performance', 'online', 'operating',\n",
       "       'operating instructions', 'operating instructions additional',\n",
       "       'optimizer', 'optimizer monitors', 'optimizer monitors noise',\n",
       "       'outstanding', 'outstanding features',\n",
       "       'outstanding features price', 'packaging', 'packaging includes',\n",
       "       'packaging includes operating', 'packed', 'packed host',\n",
       "       'packed host features', 'pair', 'pair headphones',\n",
       "       'pair headphones designed', 'pair headphones phone', 'performance',\n",
       "       'performance pursuing', 'performance pursuing wearing',\n",
       "       'performance significant', 'performance significant stability',\n",
       "       'phone', 'phone computer', 'phone computer tablet', 'player',\n",
       "       'player packaging', 'player packaging includes', 'price',\n",
       "       'price sony', 'price sony wh', 'pursuing', 'pursuing wearing',\n",
       "       'pursuing wearing conditions', 'quite', 'quite fair',\n",
       "       'quite fair good', 'say', 'say goodbye', 'say goodbye stress',\n",
       "       'significant', 'significant stability',\n",
       "       'significant stability thanks', 'simply', 'simply connect',\n",
       "       'simply connect pair', 'sleek', 'sleek design',\n",
       "       'sleek design cutting', 'smiling', 'smiling contagious',\n",
       "       'smiling contagious effectively', 'songs', 'songs furthermore',\n",
       "       'songs furthermore comes', 'sony', 'sony wh', 'sony wh 1000xm5',\n",
       "       'sound', 'sound effects', 'sound effects make',\n",
       "       'sound effects sony', 'stability', 'stability thanks',\n",
       "       'stability thanks wireless', 'stress', 'stress sony',\n",
       "       'stress sony wh', 'support', 'support unparalleled',\n",
       "       'support unparalleled performance', 'tablet', 'tablet mp3',\n",
       "       'tablet mp3 player', 'technology', 'technology waiting',\n",
       "       'technology waiting sony', 'thanks', 'thanks wireless',\n",
       "       'thanks wireless feature', 'thinking', 'thinking outstanding',\n",
       "       'thinking outstanding features', 'time', 'time want',\n",
       "       'time want listen', 'travel', 'travel friendly',\n",
       "       'travel friendly thinking', 'unparalleled',\n",
       "       'unparalleled performance', 'unparalleled performance significant',\n",
       "       'untangle', 'untangle headphones', 'untangle headphones time',\n",
       "       'waiting', 'waiting sony', 'waiting sony wh', 'want',\n",
       "       'want listen', 'want listen songs', 'wearing',\n",
       "       'wearing conditions', 'wearing conditions headphones', 'wh',\n",
       "       'wh 1000xm5', 'wh 1000xm5 bluetooth', 'wireless',\n",
       "       'wireless feature', 'wireless feature need', 'word', 'word sony',\n",
       "       'word sony wh'], dtype=object)"
      ]
     },
     "execution_count": 52,
     "metadata": {},
     "output_type": "execute_result"
    }
   ],
   "source": [
    "candidates"
   ]
  },
  {
   "cell_type": "code",
   "execution_count": 53,
   "metadata": {},
   "outputs": [],
   "source": [
    "\n",
    "doc_embedding = model.encode([doc])\n",
    "candidate_embeddings = model.encode(candidates)"
   ]
  },
  {
   "cell_type": "code",
   "execution_count": 54,
   "metadata": {},
   "outputs": [],
   "source": [
    "from sklearn.metrics.pairwise import cosine_similarity\n",
    "\n",
    "top_n = 50\n",
    "distances = cosine_similarity(doc_embedding, candidate_embeddings)\n",
    "# keywords = [candidates[index] for index in distances.argsort()[0][-top_n:]]\n",
    "keywords = [candidates[index] for index in distances.argsort()[0][-top_n:]]"
   ]
  },
  {
   "cell_type": "code",
   "execution_count": 55,
   "metadata": {},
   "outputs": [
    {
     "data": {
      "text/plain": [
       "['headset mic exceptional',\n",
       " 'headphones time want',\n",
       " 'phone computer tablet',\n",
       " 'make headphones',\n",
       " 'need untangle headphones',\n",
       " 'immersive sound effects',\n",
       " 'enjoy immersive sound',\n",
       " 'conditions headphones exclusively',\n",
       " 'good music',\n",
       " 'headphones exclusively designed',\n",
       " 'connect pair headphones',\n",
       " 'mp3 player packaging',\n",
       " 'wearing conditions headphones',\n",
       " 'monitors noise canceling',\n",
       " 'optimizer monitors noise',\n",
       " 'computer tablet mp3',\n",
       " 'headset mic online',\n",
       " 'favorite music',\n",
       " 'fair good music',\n",
       " 'absolute favorite music',\n",
       " 'convenience word sony',\n",
       " 'headphones phone computer',\n",
       " 'music smiling contagious',\n",
       " 'wireless feature need',\n",
       " 'headset mic blend',\n",
       " 'wireless feature',\n",
       " 'gadget travel friendly',\n",
       " 'favorite music lovers',\n",
       " 'effects make headphones',\n",
       " 'sony wh 1000xm5',\n",
       " 'good music smiling',\n",
       " 'tablet mp3 player',\n",
       " 'make headphones absolute',\n",
       " 'technology waiting sony',\n",
       " 'headphones absolute favorite',\n",
       " 'sound effects sony',\n",
       " 'bluetooth',\n",
       " 'thanks wireless',\n",
       " 'thanks wireless feature',\n",
       " 'stability thanks wireless',\n",
       " 'designed bluetooth',\n",
       " 'bluetooth headset',\n",
       " 'bluetooth support unparalleled',\n",
       " 'wh 1000xm5 bluetooth',\n",
       " '1000xm5 bluetooth',\n",
       " 'bluetooth headset mic',\n",
       " 'bluetooth support',\n",
       " 'headphones designed bluetooth',\n",
       " 'designed bluetooth support',\n",
       " '1000xm5 bluetooth headset']"
      ]
     },
     "execution_count": 55,
     "metadata": {},
     "output_type": "execute_result"
    }
   ],
   "source": [
    "keywords"
   ]
  },
  {
   "cell_type": "code",
   "execution_count": 56,
   "metadata": {},
   "outputs": [],
   "source": [
    "import numpy as np\n",
    "import itertools\n",
    "\n",
    "def max_sum_sim(doc_embedding, word_embeddings, words, top_n, nr_candidates):\n",
    "    # Calculate distances and extract keywords\n",
    "    distances = cosine_similarity(doc_embedding, candidate_embeddings)\n",
    "    distances_candidates = cosine_similarity(candidate_embeddings, \n",
    "                                            candidate_embeddings)\n",
    "\n",
    "    # Get top_n words as candidates based on cosine similarity\n",
    "    words_idx = list(distances.argsort()[0][-nr_candidates:])\n",
    "    words_vals = [candidates[index] for index in words_idx]\n",
    "    distances_candidates = distances_candidates[np.ix_(words_idx, words_idx)]\n",
    "\n",
    "    # Calculate the combination of words that are the least similar to each other\n",
    "    min_sim = np.inf\n",
    "    candidate = None\n",
    "    for combination in itertools.combinations(range(len(words_idx)), top_n):\n",
    "        sim = sum([distances_candidates[i][j] for i in combination for j in combination if i != j])\n",
    "        if sim < min_sim:\n",
    "            candidate = combination\n",
    "            min_sim = sim\n",
    "\n",
    "    return [words_vals[idx] for idx in candidate]"
   ]
  },
  {
   "cell_type": "code",
   "execution_count": 57,
   "metadata": {},
   "outputs": [
    {
     "data": {
      "text/plain": [
       "['good music smiling',\n",
       " 'tablet mp3 player',\n",
       " 'make headphones absolute',\n",
       " 'technology waiting sony',\n",
       " 'headphones absolute favorite',\n",
       " 'sound effects sony',\n",
       " 'bluetooth',\n",
       " 'stability thanks wireless',\n",
       " 'wh 1000xm5 bluetooth',\n",
       " '1000xm5 bluetooth']"
      ]
     },
     "execution_count": 57,
     "metadata": {},
     "output_type": "execute_result"
    }
   ],
   "source": [
    "max_sum_sim(\n",
    "    doc_embedding=doc_embedding,\n",
    "  word_embeddings=  candidate_embeddings,\n",
    "    words=candidates,\n",
    "    top_n=10,\n",
    "    nr_candidates= 20)"
   ]
  },
  {
   "cell_type": "code",
   "execution_count": 58,
   "metadata": {},
   "outputs": [],
   "source": [
    "import numpy as np\n",
    "\n",
    "def mmr(doc_embedding, word_embeddings, words, top_n, diversity):\n",
    "\n",
    "    # Extract similarity within words, and between words and the document\n",
    "    word_doc_similarity = cosine_similarity(word_embeddings, doc_embedding)\n",
    "    word_similarity = cosine_similarity(word_embeddings)\n",
    "\n",
    "    # Initialize candidates and already choose best keyword/keyphras\n",
    "    keywords_idx = [np.argmax(word_doc_similarity)]\n",
    "    candidates_idx = [i for i in range(len(words)) if i != keywords_idx[0]]\n",
    "\n",
    "    for _ in range(top_n - 1):\n",
    "        # Extract similarities within candidates and\n",
    "        # between candidates and selected keywords/phrases\n",
    "        candidate_similarities = word_doc_similarity[candidates_idx, :]\n",
    "        target_similarities = np.max(word_similarity[candidates_idx][:, keywords_idx], axis=1)\n",
    "\n",
    "        # Calculate MMR\n",
    "        mmr = (1-diversity) * candidate_similarities - diversity * target_similarities.reshape(-1, 1)\n",
    "        mmr_idx = candidates_idx[np.argmax(mmr)]\n",
    "\n",
    "        # Update keywords & candidates\n",
    "        keywords_idx.append(mmr_idx)\n",
    "        candidates_idx.remove(mmr_idx)\n",
    "\n",
    "    return [words[idx] for idx in keywords_idx]"
   ]
  },
  {
   "cell_type": "code",
   "execution_count": 59,
   "metadata": {},
   "outputs": [
    {
     "data": {
      "text/plain": [
       "['1000xm5 bluetooth headset',\n",
       " 'favorite music lovers',\n",
       " 'monitors noise canceling',\n",
       " 'stability thanks wireless',\n",
       " 'technology waiting sony',\n",
       " 'designed bluetooth support',\n",
       " 'headphones exclusively designed',\n",
       " 'tablet mp3 player',\n",
       " 'bluetooth support unparalleled',\n",
       " 'headphones designed bluetooth',\n",
       " 'player packaging includes',\n",
       " 'headset mic blend',\n",
       " 'bluetooth headset mic',\n",
       " 'sound effects sony',\n",
       " 'convenience word sony',\n",
       " 'bluetooth support',\n",
       " 'sony wh 1000xm5',\n",
       " 'wh 1000xm5 bluetooth',\n",
       " 'headphones absolute favorite',\n",
       " '1000xm5 bluetooth']"
      ]
     },
     "execution_count": 59,
     "metadata": {},
     "output_type": "execute_result"
    }
   ],
   "source": [
    "mmr(\n",
    "    doc_embedding=doc_embedding,\n",
    "  word_embeddings=  candidate_embeddings,\n",
    "    words=candidates,\n",
    "    top_n=20,\n",
    "    diversity= .5)"
   ]
  },
  {
   "cell_type": "code",
   "execution_count": null,
   "metadata": {},
   "outputs": [],
   "source": []
  },
  {
   "cell_type": "code",
   "execution_count": 1,
   "metadata": {},
   "outputs": [
    {
     "ename": "ValueError",
     "evalue": "Cannot use GPU, CuPy is not installed",
     "output_type": "error",
     "traceback": [
      "\u001b[0;31m---------------------------------------------------------------------------\u001b[0m",
      "\u001b[0;31mValueError\u001b[0m                                Traceback (most recent call last)",
      "\u001b[1;32m/home/ubuntu/NewDataCategories/research/06_keyword_extraction_with_bert.ipynb Cell 13\u001b[0m line \u001b[0;36m8\n\u001b[1;32m      <a href='vscode-notebook-cell://ssh-remote%2B7b22686f73744e616d65223a22456d62656464696e6773227d/home/ubuntu/NewDataCategories/research/06_keyword_extraction_with_bert.ipynb#X15sdnNjb2RlLXJlbW90ZQ%3D%3D?line=3'>4</a>\u001b[0m \u001b[39m# Use the GPU, with memory allocations directed via PyTorch.\u001b[39;00m\n\u001b[1;32m      <a href='vscode-notebook-cell://ssh-remote%2B7b22686f73744e616d65223a22456d62656464696e6773227d/home/ubuntu/NewDataCategories/research/06_keyword_extraction_with_bert.ipynb#X15sdnNjb2RlLXJlbW90ZQ%3D%3D?line=4'>5</a>\u001b[0m \u001b[39m# This prevents out-of-memory errors that would otherwise occur from competing\u001b[39;00m\n\u001b[1;32m      <a href='vscode-notebook-cell://ssh-remote%2B7b22686f73744e616d65223a22456d62656464696e6773227d/home/ubuntu/NewDataCategories/research/06_keyword_extraction_with_bert.ipynb#X15sdnNjb2RlLXJlbW90ZQ%3D%3D?line=5'>6</a>\u001b[0m \u001b[39m# memory pools.\u001b[39;00m\n\u001b[1;32m      <a href='vscode-notebook-cell://ssh-remote%2B7b22686f73744e616d65223a22456d62656464696e6773227d/home/ubuntu/NewDataCategories/research/06_keyword_extraction_with_bert.ipynb#X15sdnNjb2RlLXJlbW90ZQ%3D%3D?line=6'>7</a>\u001b[0m set_gpu_allocator(\u001b[39m\"\u001b[39m\u001b[39mpytorch\u001b[39m\u001b[39m\"\u001b[39m)\n\u001b[0;32m----> <a href='vscode-notebook-cell://ssh-remote%2B7b22686f73744e616d65223a22456d62656464696e6773227d/home/ubuntu/NewDataCategories/research/06_keyword_extraction_with_bert.ipynb#X15sdnNjb2RlLXJlbW90ZQ%3D%3D?line=7'>8</a>\u001b[0m require_gpu(\u001b[39m0\u001b[39;49m)\n\u001b[1;32m     <a href='vscode-notebook-cell://ssh-remote%2B7b22686f73744e616d65223a22456d62656464696e6773227d/home/ubuntu/NewDataCategories/research/06_keyword_extraction_with_bert.ipynb#X15sdnNjb2RlLXJlbW90ZQ%3D%3D?line=9'>10</a>\u001b[0m nlp \u001b[39m=\u001b[39m spacy\u001b[39m.\u001b[39mload(\u001b[39m\"\u001b[39m\u001b[39men_core_web_trf\u001b[39m\u001b[39m\"\u001b[39m)\n\u001b[1;32m     <a href='vscode-notebook-cell://ssh-remote%2B7b22686f73744e616d65223a22456d62656464696e6773227d/home/ubuntu/NewDataCategories/research/06_keyword_extraction_with_bert.ipynb#X15sdnNjb2RlLXJlbW90ZQ%3D%3D?line=10'>11</a>\u001b[0m \u001b[39mfor\u001b[39;00m doc \u001b[39min\u001b[39;00m nlp\u001b[39m.\u001b[39mpipe([\u001b[39m\"\u001b[39m\u001b[39msome text\u001b[39m\u001b[39m\"\u001b[39m, \u001b[39m\"\u001b[39m\u001b[39msome other text\u001b[39m\u001b[39m\"\u001b[39m]):\n",
      "File \u001b[0;32m~/NewDataCategories/venv/lib/python3.10/site-packages/thinc/util.py:230\u001b[0m, in \u001b[0;36mrequire_gpu\u001b[0;34m(gpu_id)\u001b[0m\n\u001b[1;32m    228\u001b[0m     \u001b[39mraise\u001b[39;00m \u001b[39mValueError\u001b[39;00m(\u001b[39m\"\u001b[39m\u001b[39mCannot use GPU, PyTorch is not installed\u001b[39m\u001b[39m\"\u001b[39m)\n\u001b[1;32m    229\u001b[0m \u001b[39melif\u001b[39;00m platform\u001b[39m.\u001b[39msystem() \u001b[39m!=\u001b[39m \u001b[39m\"\u001b[39m\u001b[39mDarwin\u001b[39m\u001b[39m\"\u001b[39m \u001b[39mand\u001b[39;00m \u001b[39mnot\u001b[39;00m has_cupy:\n\u001b[0;32m--> 230\u001b[0m     \u001b[39mraise\u001b[39;00m \u001b[39mValueError\u001b[39;00m(\u001b[39m\"\u001b[39m\u001b[39mCannot use GPU, CuPy is not installed\u001b[39m\u001b[39m\"\u001b[39m)\n\u001b[1;32m    231\u001b[0m \u001b[39melif\u001b[39;00m \u001b[39mnot\u001b[39;00m has_gpu:\n\u001b[1;32m    232\u001b[0m     \u001b[39mraise\u001b[39;00m \u001b[39mValueError\u001b[39;00m(\u001b[39m\"\u001b[39m\u001b[39mNo GPU devices detected\u001b[39m\u001b[39m\"\u001b[39m)\n",
      "\u001b[0;31mValueError\u001b[0m: Cannot use GPU, CuPy is not installed"
     ]
    }
   ],
   "source": [
    "import spacy\n",
    "from thinc.api import set_gpu_allocator, require_gpu\n",
    "\n",
    "# Use the GPU, with memory allocations directed via PyTorch.\n",
    "# This prevents out-of-memory errors that would otherwise occur from competing\n",
    "# memory pools.\n",
    "set_gpu_allocator(\"pytorch\")\n",
    "require_gpu(0)\n",
    "\n",
    "nlp = spacy.load(\"en_core_web_trf\")\n",
    "for doc in nlp.pipe([\"some text\", \"some other text\"]):\n",
    "    tokvecs = doc._.trf_data.tensors[-1]"
   ]
  },
  {
   "cell_type": "code",
   "execution_count": null,
   "metadata": {},
   "outputs": [],
   "source": []
  }
 ],
 "metadata": {
  "kernelspec": {
   "display_name": "venv",
   "language": "python",
   "name": "python3"
  },
  "language_info": {
   "codemirror_mode": {
    "name": "ipython",
    "version": 3
   },
   "file_extension": ".py",
   "mimetype": "text/x-python",
   "name": "python",
   "nbconvert_exporter": "python",
   "pygments_lexer": "ipython3",
   "version": "3.10.12"
  }
 },
 "nbformat": 4,
 "nbformat_minor": 2
}
