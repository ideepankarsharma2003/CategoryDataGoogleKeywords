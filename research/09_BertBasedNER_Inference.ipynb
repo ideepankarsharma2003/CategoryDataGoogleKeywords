{
 "cells": [
  {
   "cell_type": "code",
   "execution_count": 1,
   "metadata": {},
   "outputs": [
    {
     "name": "stderr",
     "output_type": "stream",
     "text": [
      "/home/ubuntu/NewDataCategories/venv/lib/python3.10/site-packages/tqdm/auto.py:21: TqdmWarning: IProgress not found. Please update jupyter and ipywidgets. See https://ipywidgets.readthedocs.io/en/stable/user_install.html\n",
      "  from .autonotebook import tqdm as notebook_tqdm\n"
     ]
    }
   ],
   "source": [
    "from transformers import AutoTokenizer, AutoModelForTokenClassification\n",
    "from transformers import pipeline"
   ]
  },
  {
   "cell_type": "code",
   "execution_count": 1,
   "metadata": {},
   "outputs": [
    {
     "name": "stderr",
     "output_type": "stream",
     "text": [
      "/home/ubuntu/NewDataCategories/venv/lib/python3.10/site-packages/tqdm/auto.py:21: TqdmWarning: IProgress not found. Please update jupyter and ipywidgets. See https://ipywidgets.readthedocs.io/en/stable/user_install.html\n",
      "  from .autonotebook import tqdm as notebook_tqdm\n",
      "Some weights of the model checkpoint at dslim/bert-base-NER were not used when initializing BertForTokenClassification: ['bert.pooler.dense.weight', 'bert.pooler.dense.bias']\n",
      "- This IS expected if you are initializing BertForTokenClassification from the checkpoint of a model trained on another task or with another architecture (e.g. initializing a BertForSequenceClassification model from a BertForPreTraining model).\n",
      "- This IS NOT expected if you are initializing BertForTokenClassification from the checkpoint of a model that you expect to be exactly identical (initializing a BertForSequenceClassification model from a BertForSequenceClassification model).\n"
     ]
    },
    {
     "name": "stdout",
     "output_type": "stream",
     "text": [
      "[{'entity': 'B-PER', 'score': 0.9990139, 'index': 4, 'word': 'Wolfgang', 'start': 11, 'end': 19}, {'entity': 'B-LOC', 'score': 0.999645, 'index': 9, 'word': 'Berlin', 'start': 34, 'end': 40}]\n"
     ]
    }
   ],
   "source": [
    "\n",
    "\n",
    "tokenizer = AutoTokenizer.from_pretrained(\"dslim/bert-base-NER\")\n",
    "model = AutoModelForTokenClassification.from_pretrained(\"dslim/bert-base-NER\")\n",
    "\n",
    "nlp = pipeline(\"ner\", model=model, tokenizer=tokenizer)\n",
    "example = \"My name is Wolfgang and I live in Berlin\"\n",
    "\n",
    "ner_results = nlp(example)\n",
    "print(ner_results)\n"
   ]
  },
  {
   "cell_type": "code",
   "execution_count": 2,
   "metadata": {},
   "outputs": [],
   "source": [
    "tokenizer = AutoTokenizer.from_pretrained(\"fine_tune_bert_output/checkpoint-2000\")\n",
    "model = AutoModelForTokenClassification.from_pretrained(\"fine_tune_bert_output/checkpoint-2000\")\n",
    "\n",
    "nlp = pipeline(\"ner\", model=model, tokenizer=tokenizer)\n"
   ]
  },
  {
   "cell_type": "code",
   "execution_count": 3,
   "metadata": {},
   "outputs": [],
   "source": [
    "'''\n",
    "O\tOutside of a named entity\n",
    "B-MIS\tBeginning of a miscellaneous entity right after another miscellaneous entity\n",
    "I-MIS\tMiscellaneous entity\n",
    "B-PER\tBeginning of a person’s name right after another person’s name\n",
    "I-PER\tPerson’s name\n",
    "B-ORG\tBeginning of an organization right after another organization\n",
    "I-ORG\torganization\n",
    "B-LOC\tBeginning of a location right after another location\n",
    "I-LOC\tLocation\n",
    "'''\n",
    "\n",
    "enities=['O', 'B-PER', 'I-PER', 'B-ORG', 'I-ORG', 'B-LOC', 'I-LOC']\n",
    "\n",
    "\n"
   ]
  },
  {
   "cell_type": "markdown",
   "metadata": {},
   "source": [
    "## *`\"Rohan is father of Sohan who married Sita in the New York\"`* <br>\n",
    "## **`\"रोहन सोहन का पिता है जिसने न्यूयॉर्क में सीता से शादी की है।\"`**\n"
   ]
  },
  {
   "cell_type": "code",
   "execution_count": 4,
   "metadata": {},
   "outputs": [
    {
     "name": "stdout",
     "output_type": "stream",
     "text": [
      "[{'entity': 'LABEL_1', 'score': 0.9992624, 'index': 1, 'word': 'र', 'start': 0, 'end': 1}, {'entity': 'LABEL_1', 'score': 0.99924797, 'index': 2, 'word': '##ो', 'start': 1, 'end': 2}, {'entity': 'LABEL_1', 'score': 0.9992586, 'index': 3, 'word': '##हन', 'start': 2, 'end': 4}, {'entity': 'LABEL_2', 'score': 0.9983303, 'index': 4, 'word': 'स', 'start': 5, 'end': 6}, {'entity': 'LABEL_2', 'score': 0.9980725, 'index': 5, 'word': '##ो', 'start': 6, 'end': 7}, {'entity': 'LABEL_2', 'score': 0.99812716, 'index': 6, 'word': '##हन', 'start': 7, 'end': 9}, {'entity': 'LABEL_0', 'score': 0.99962425, 'index': 7, 'word': 'का', 'start': 10, 'end': 12}, {'entity': 'LABEL_0', 'score': 0.99966323, 'index': 8, 'word': 'पिता', 'start': 13, 'end': 17}, {'entity': 'LABEL_0', 'score': 0.9996762, 'index': 9, 'word': 'है', 'start': 18, 'end': 20}, {'entity': 'LABEL_0', 'score': 0.99957734, 'index': 10, 'word': 'जिस', 'start': 21, 'end': 24}, {'entity': 'LABEL_0', 'score': 0.9996018, 'index': 11, 'word': '##ने', 'start': 24, 'end': 26}, {'entity': 'LABEL_5', 'score': 0.999308, 'index': 12, 'word': 'न्यू', 'start': 27, 'end': 31}, {'entity': 'LABEL_5', 'score': 0.9993337, 'index': 13, 'word': '##य', 'start': 31, 'end': 32}, {'entity': 'LABEL_5', 'score': 0.9993394, 'index': 14, 'word': '##ॉ', 'start': 32, 'end': 33}, {'entity': 'LABEL_5', 'score': 0.9994098, 'index': 15, 'word': '##र्क', 'start': 33, 'end': 36}, {'entity': 'LABEL_0', 'score': 0.9996649, 'index': 16, 'word': 'में', 'start': 37, 'end': 40}, {'entity': 'LABEL_1', 'score': 0.99508446, 'index': 17, 'word': 'सी', 'start': 41, 'end': 43}, {'entity': 'LABEL_1', 'score': 0.9961547, 'index': 18, 'word': '##ता', 'start': 43, 'end': 45}, {'entity': 'LABEL_0', 'score': 0.9996339, 'index': 19, 'word': 'से', 'start': 46, 'end': 48}, {'entity': 'LABEL_0', 'score': 0.99962115, 'index': 20, 'word': 'श', 'start': 49, 'end': 50}, {'entity': 'LABEL_0', 'score': 0.99963415, 'index': 21, 'word': '##ाद', 'start': 50, 'end': 52}, {'entity': 'LABEL_0', 'score': 0.99963427, 'index': 22, 'word': '##ी', 'start': 52, 'end': 53}, {'entity': 'LABEL_0', 'score': 0.9996197, 'index': 23, 'word': 'की', 'start': 54, 'end': 56}, {'entity': 'LABEL_0', 'score': 0.99969363, 'index': 24, 'word': 'है', 'start': 57, 'end': 59}, {'entity': 'LABEL_0', 'score': 0.9997203, 'index': 25, 'word': '।', 'start': 59, 'end': 60}]\n",
      "{'entity': 'B-PER', 'score': 0.9992624, 'index': 1, 'word': 'र', 'start': 0, 'end': 1}\n",
      "{'entity': 'B-PER', 'score': 0.99924797, 'index': 2, 'word': '##ो', 'start': 1, 'end': 2}\n",
      "{'entity': 'B-PER', 'score': 0.9992586, 'index': 3, 'word': '##हन', 'start': 2, 'end': 4}\n",
      "{'entity': 'I-PER', 'score': 0.9983303, 'index': 4, 'word': 'स', 'start': 5, 'end': 6}\n",
      "{'entity': 'I-PER', 'score': 0.9980725, 'index': 5, 'word': '##ो', 'start': 6, 'end': 7}\n",
      "{'entity': 'I-PER', 'score': 0.99812716, 'index': 6, 'word': '##हन', 'start': 7, 'end': 9}\n",
      "{'entity': 'B-LOC', 'score': 0.999308, 'index': 12, 'word': 'न्यू', 'start': 27, 'end': 31}\n",
      "{'entity': 'B-LOC', 'score': 0.9993337, 'index': 13, 'word': '##य', 'start': 31, 'end': 32}\n",
      "{'entity': 'B-LOC', 'score': 0.9993394, 'index': 14, 'word': '##ॉ', 'start': 32, 'end': 33}\n",
      "{'entity': 'B-LOC', 'score': 0.9994098, 'index': 15, 'word': '##र्क', 'start': 33, 'end': 36}\n",
      "{'entity': 'B-PER', 'score': 0.99508446, 'index': 17, 'word': 'सी', 'start': 41, 'end': 43}\n",
      "{'entity': 'B-PER', 'score': 0.9961547, 'index': 18, 'word': '##ता', 'start': 43, 'end': 45}\n"
     ]
    }
   ],
   "source": [
    "example = \"रोहन सोहन का पिता है जिसने न्यूयॉर्क में सीता से शादी की है।\"\n",
    "\n",
    "ner_results = nlp(example)\n",
    "print(ner_results)\n",
    "for result in ner_results:\n",
    "    if result['entity'][-1]!='0':\n",
    "        idx= int(result['entity'][-1])\n",
    "        result['entity']= enities[idx]\n",
    "        \n",
    "        \n",
    "        \n",
    "        print(result)"
   ]
  },
  {
   "cell_type": "markdown",
   "metadata": {},
   "source": [
    "## **`\"सुंदर ने गूगल मुख्यालय में राधा से शादी की।\"`**"
   ]
  },
  {
   "cell_type": "code",
   "execution_count": null,
   "metadata": {},
   "outputs": [],
   "source": [
    "example = \"सुंदर ने गूगल मुख्यालय में राधा से शादी की।\"\n",
    "\n",
    "ner_results = nlp(example)\n",
    "print(ner_results)\n",
    "for result in ner_results:\n",
    "    if result['entity'][-1]!='0':\n",
    "        idx= int(result['entity'][-1])\n",
    "        result['entity']= enities[idx]\n",
    "        \n",
    "        \n",
    "        \n",
    "        print(result)"
   ]
  },
  {
   "cell_type": "code",
   "execution_count": null,
   "metadata": {},
   "outputs": [],
   "source": []
  }
 ],
 "metadata": {
  "kernelspec": {
   "display_name": "venv",
   "language": "python",
   "name": "python3"
  },
  "language_info": {
   "codemirror_mode": {
    "name": "ipython",
    "version": 3
   },
   "file_extension": ".py",
   "mimetype": "text/x-python",
   "name": "python",
   "nbconvert_exporter": "python",
   "pygments_lexer": "ipython3",
   "version": "3.10.12"
  }
 },
 "nbformat": 4,
 "nbformat_minor": 2
}
